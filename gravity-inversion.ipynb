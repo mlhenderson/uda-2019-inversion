{
 "cells": [
  {
   "cell_type": "markdown",
   "metadata": {},
   "source": [
    "# Gravity: Laguna del Maule Bouguer Gravity\n",
    "\n",
    "This notebook illustrates the SimPEG code used to invert Bouguer gravity data collected at Laguna del Maule volcanic field, Chile. Refer to [Miller et al 2017 EPSL](https://doi.org/10.1016/j.epsl.2016.11.007) for full details.\n",
    "\n",
    "Originally implemented in the [SimPEG Examples](http://docs.simpeg.xyz/content/examples/04-grav/plot_laguna_del_maule_inversion.html#sphx-glr-content-examples-04-grav-plot-laguna-del-maule-inversion-py)"
   ]
  },
  {
   "cell_type": "code",
   "execution_count": 1,
   "metadata": {},
   "outputs": [],
   "source": [
    "import deepdish as dd\n",
    "import os\n",
    "import tarfile\n",
    "import SimPEG.PF as PF\n",
    "from SimPEG import (\n",
    "    Maps, Regularization, Optimization, DataMisfit,\n",
    "    InvProblem, Directives, Inversion, Utils\n",
    ")\n",
    "from SimPEG.Utils.io_utils import download\n",
    "import matplotlib.pyplot as plt\n",
    "import numpy as np"
   ]
  },
  {
   "cell_type": "code",
   "execution_count": 2,
   "metadata": {},
   "outputs": [
    {
     "name": "stdout",
     "output_type": "stream",
     "text": [
      "overwriting /Users/lindseyjh/git/simpeg-research/uda-2019-inversion/Chile_GRAV_4_Miller.tar.gz\n",
      "Downloading https://storage.googleapis.com/simpeg/Chile_GRAV_4_Miller/Chile_GRAV_4_Miller.tar.gz\n",
      "   saved to: /Users/lindseyjh/git/simpeg-research/uda-2019-inversion/Chile_GRAV_4_Miller.tar.gz\n",
      "Download completed!\n"
     ]
    }
   ],
   "source": [
    "# Download the data\n",
    "url = \"https://storage.googleapis.com/simpeg/Chile_GRAV_4_Miller/Chile_GRAV_4_Miller.tar.gz\"\n",
    "downloads = download(url, overwrite=True)\n",
    "basePath = downloads.split(\".\")[0]\n",
    "\n",
    "# unzip the tarfile\n",
    "tar = tarfile.open(downloads, \"r\")\n",
    "tar.extractall()\n",
    "tar.close()\n",
    "\n",
    "input_file = os.path.sep.join([basePath, 'LdM_input_file.inp'])"
   ]
  },
  {
   "cell_type": "markdown",
   "metadata": {},
   "source": [
    "## Input parameters"
   ]
  },
  {
   "cell_type": "code",
   "execution_count": 3,
   "metadata": {},
   "outputs": [],
   "source": [
    "# Plotting parameters, max and min densities in g/cc\n",
    "vmin = -0.6\n",
    "vmax = 0.6"
   ]
  },
  {
   "cell_type": "code",
   "execution_count": 4,
   "metadata": {},
   "outputs": [],
   "source": [
    "# weight exponent for default weighting\n",
    "wgtexp = 3.\n",
    "# %%\n",
    "# Read in the input file which included all parameters at once\n",
    "# (mesh, topo, model, survey, inv param, etc.)\n",
    "driver = PF.GravityDriver.GravityDriver_Inv(input_file)"
   ]
  },
  {
   "cell_type": "markdown",
   "metadata": {},
   "source": [
    "## forward simulation"
   ]
  },
  {
   "cell_type": "code",
   "execution_count": 5,
   "metadata": {},
   "outputs": [],
   "source": [
    "# Access the mesh and survey information\n",
    "mesh = driver.mesh\n",
    "survey = driver.survey\n",
    "\n",
    "# define gravity survey locations\n",
    "rxLoc = survey.srcField.rxList[0].locs\n",
    "\n",
    "# define gravity data and errors\n",
    "d = survey.dobs\n",
    "wd = survey.std"
   ]
  },
  {
   "cell_type": "code",
   "execution_count": 6,
   "metadata": {},
   "outputs": [],
   "source": [
    "# Get the active cells\n",
    "active = driver.activeCells\n",
    "nC = len(active)  # Number of active cells\n",
    "\n",
    "# Create active map to go from reduce set to full\n",
    "activeMap = Maps.InjectActiveCells(mesh, active, -100)\n",
    "\n",
    "# Create static map\n",
    "static = driver.staticCells\n",
    "dynamic = driver.dynamicCells\n",
    "\n",
    "staticCells = Maps.InjectActiveCells(\n",
    "    None, dynamic, driver.m0[static], nC=nC\n",
    ")\n",
    "mstart = driver.m0[dynamic]\n",
    "\n",
    "# Get index of the center\n",
    "midx = int(mesh.nCx/2)\n",
    "# %%\n",
    "# Now that we have a model and a survey we can build the linear system ...\n",
    "# Create the forward model operator\n",
    "prob = PF.Gravity.GravityIntegral(mesh, rhoMap=staticCells,\n",
    "                                  actInd=active)\n",
    "prob.solverOpts['accuracyTol'] = 1e-4\n",
    "\n",
    "# Pair the survey and problem\n",
    "survey.pair(prob)"
   ]
  },
  {
   "cell_type": "markdown",
   "metadata": {},
   "source": [
    "## Set up the inversion"
   ]
  },
  {
   "cell_type": "code",
   "execution_count": 7,
   "metadata": {},
   "outputs": [],
   "source": [
    "# create a custom directive to save the inversion model at every iteration to hdf5\n",
    "\n",
    "class SaveModelEveryIterationHDF5(Directives.SaveEveryIteration):\n",
    "    \"\"\"SaveModelEveryIteration\n",
    "\n",
    "    This directive saves the model as a numpy array at each iteration. The\n",
    "    default direcroty is the current directoy and the models are saved as\n",
    "    `InversionModel-YYYY-MM-DD-HH-MM-iter.h5`\n",
    "    \"\"\"\n",
    "    \n",
    "    mapping = None\n",
    "    \n",
    "    def initialize(self):\n",
    "        print(\n",
    "            \"SimPEG.SaveModelEveryIteration will save your models as: \"\n",
    "            \"'{0!s}###-{1!s}.h5'\".format(\n",
    "                self.directory + os.path.sep, self.fileName\n",
    "            )\n",
    "        )\n",
    "\n",
    "    def endIter(self):\n",
    "        mesh = self.invProb.dmisfit.prob.mesh\n",
    "        rhoMap = self.invProb.dmisfit.prob.rhoMap\n",
    "        model = self.opt.xc\n",
    "        if self.mapping is not None:\n",
    "            model = self.mapping * model\n",
    "        model = model.reshape(mesh.vnC, order=\"F\")\n",
    "        data = {\n",
    "            \"x\": mesh.vectorCCx,\n",
    "            \"y\": mesh.vectorCCy, \n",
    "            \"z\": mesh.vectorCCz, \n",
    "            \"model\": model\n",
    "        }\n",
    "        dd.io.save(\n",
    "            '{0!s}{1:03d}-{2!s}.h5'.format(\n",
    "                self.directory + os.path.sep, self.opt.iter, self.fileName\n",
    "            ), data\n",
    "        )"
   ]
  },
  {
   "cell_type": "code",
   "execution_count": 8,
   "metadata": {},
   "outputs": [
    {
     "name": "stdout",
     "output_type": "stream",
     "text": [
      "Begin calculation of distance weighting for R= 3.0\n",
      "Done 0.0 %\n",
      "Done 10.0 %\n",
      "Done 20.0 %\n",
      "Done 30.0 %\n",
      "Done 40.0 %\n",
      "Done 50.0 %\n",
      "Done 60.0 %\n",
      "Done 70.0 %\n",
      "Done 80.0 %\n",
      "Done 90.0 %\n",
      "Done 100% ...distance weighting completed!!\n",
      "\n",
      "SimPEG.DataMisfit.l2_DataMisfit assigning default eps of 1e-5 * ||dobs||\n",
      "Begin linear forward calculation: z\n",
      "Done 0.0 %\n",
      "Done 10.0 %\n",
      "Done 20.0 %\n",
      "Done 30.0 %\n",
      "Done 40.0 %\n",
      "Done 50.0 %\n",
      "Done 60.0 %\n",
      "Done 70.0 %\n",
      "Done 80.0 %\n",
      "Done 90.0 %\n",
      "Linear forward calculation ended in: 13.51827597618103 sec\n"
     ]
    }
   ],
   "source": [
    "# Apply depth weighting\n",
    "wr = PF.Magnetics.get_dist_wgt(mesh, rxLoc, active, wgtexp,\n",
    "                               np.min(mesh.hx)/4.)\n",
    "wr = wr**2.\n",
    "\n",
    "# %% Create inversion objects\n",
    "reg = Regularization.Sparse(\n",
    "    mesh, indActive=active, mapping=staticCells, gradientType='total'\n",
    ")\n",
    "reg.mref = driver.mref[dynamic]\n",
    "reg.cell_weights = wr * mesh.vol[active]\n",
    "reg.norms = np.c_[0., 1., 1., 1.]\n",
    "# reg.norms = driver.lpnorms\n",
    "\n",
    "# Specify how the optimization will proceed\n",
    "opt = Optimization.ProjectedGNCG(\n",
    "    maxIter=20, lower=driver.bounds[0],\n",
    "    upper=driver.bounds[1], maxIterLS=10,\n",
    "    maxIterCG=20, tolCG=1e-3\n",
    ")\n",
    "\n",
    "# Define misfit function (obs-calc)\n",
    "dmis = DataMisfit.l2_DataMisfit(survey)\n",
    "dmis.W = 1./wd"
   ]
  },
  {
   "cell_type": "code",
   "execution_count": 9,
   "metadata": {},
   "outputs": [],
   "source": [
    "# create the default L2 inverse problem from the above objects\n",
    "invProb = InvProblem.BaseInvProblem(dmis, reg, opt)\n",
    "\n",
    "# Specify how the initial beta is found\n",
    "betaest = Directives.BetaEstimate_ByEig(beta0_ratio=1e-2)\n",
    "\n",
    "# save the results\n",
    "\n",
    "save_model_mapping = Maps.InjectActiveCells(mesh, active, np.nan)\n",
    "save_models = SaveModelEveryIterationHDF5(directory=\"inversion_results\", mapping=save_model_mapping)\n",
    "\n",
    "# IRLS sets up the Lp inversion problem\n",
    "# Set the eps parameter parameter in Line 11 of the\n",
    "# input file based on the distribution of model (DEFAULT = 95th %ile)\n",
    "IRLS = Directives.Update_IRLS(\n",
    "    f_min_change=1e-4, maxIRLSiter=40, beta_tol=5e-1,\n",
    "    betaSearch=False\n",
    ")\n",
    "\n",
    "# Preconditioning refreshing for each IRLS iteration\n",
    "update_Jacobi = Directives.UpdatePreconditioner()\n",
    "\n",
    "# Create combined the L2 and Lp problem\n",
    "inv = Inversion.BaseInversion(\n",
    "    invProb, directiveList=[IRLS, update_Jacobi, betaest, save_models]\n",
    ")"
   ]
  },
  {
   "cell_type": "code",
   "execution_count": 10,
   "metadata": {},
   "outputs": [
    {
     "name": "stdout",
     "output_type": "stream",
     "text": [
      "\n",
      "    SimPEG.InvProblem is setting bfgsH0 to the inverse of the eval2Deriv.\n",
      "    ***Done using same Solver and solverOpts as the problem***\n",
      "Approximated diag(JtJ) with linear operator\n",
      "SimPEG.SaveModelEveryIteration will save your models as: 'inversion_results/###-InversionModel-2019-11-13-09-37.h5'\n",
      "model has any nan: 0\n",
      "=============================== Projected GNCG ===============================\n",
      "  #     beta     phi_d     phi_m       f      |proj(x-g)-x|  LS    Comment   \n",
      "-----------------------------------------------------------------------------\n",
      "x0 has any nan: 0\n",
      "   0  2.32e-03  1.30e+06  1.87e+01  1.30e+06    1.95e+02      0              \n",
      "   1  1.16e-03  3.71e+03  7.00e+06  1.18e+04    1.04e+02      0              \n",
      "   2  5.81e-04  1.85e+03  8.10e+06  6.56e+03    8.71e+01      0   Skip BFGS  \n",
      "   3  2.91e-04  8.71e+02  9.27e+06  3.56e+03    7.20e+01      0   Skip BFGS  \n",
      "   4  1.45e-04  3.74e+02  1.04e+07  1.89e+03    5.69e+01      0   Skip BFGS  \n",
      "   5  7.26e-05  1.48e+02  1.15e+07  9.84e+02    5.21e+01      0   Skip BFGS  \n",
      "Reached starting chifact with l2-norm regularization: Start IRLS steps...\n",
      "eps_p: 0.5000837959458159 eps_q: 0.5000837959458159\n",
      "delta phim: 1.314e+06\n",
      "   6  3.63e-05  5.83e+01  2.21e+07  8.61e+02    3.72e+01      0   Skip BFGS  \n",
      "delta phim: 3.064e+00\n",
      "   7  8.53e-05  3.54e+01  2.66e+07  2.31e+03    6.81e+01      0   Skip BFGS  \n",
      "delta phim: 3.104e-01\n",
      "   8  5.52e-05  1.75e+02  2.88e+07  1.77e+03    5.10e+01      0              \n",
      "delta phim: 2.697e-01\n",
      "   9  5.52e-05  9.25e+01  3.34e+07  1.94e+03    1.39e+02      0              \n",
      "delta phim: 2.665e-01\n",
      "  10  3.43e-05  1.94e+02  3.42e+07  1.37e+03    2.18e+02      0              \n",
      "delta phim: 2.283e-01\n",
      "  11  3.43e-05  7.61e+01  3.88e+07  1.41e+03    1.03e+02      0              \n",
      "delta phim: 2.376e-01\n",
      "  12  3.43e-05  1.37e+02  3.98e+07  1.50e+03    1.94e+02      0              \n",
      "delta phim: 1.844e-01\n",
      "  13  3.43e-05  1.03e+02  4.22e+07  1.55e+03    1.79e+02      0              \n",
      "delta phim: 1.698e-01\n",
      "  14  2.38e-05  1.49e+02  4.22e+07  1.16e+03    8.75e+01      0              \n",
      "delta phim: 1.448e-01\n",
      "  15  2.38e-05  7.86e+01  4.57e+07  1.17e+03    7.36e+01      0              \n",
      "delta phim: 1.433e-01\n",
      "  16  2.38e-05  1.26e+02  4.49e+07  1.20e+03    6.94e+01      0              \n",
      "delta phim: 9.322e-02\n",
      "  17  2.38e-05  1.24e+02  4.56e+07  1.21e+03    1.71e+02      3              \n",
      "delta phim: 1.200e-01\n",
      "  18  2.38e-05  1.30e+02  4.45e+07  1.19e+03    8.30e+01      0              \n",
      "delta phim: 2.610e-02\n",
      "  19  1.63e-05  1.54e+02  4.38e+07  8.70e+02    1.16e+02      1   Skip BFGS  \n",
      "delta phim: 6.995e-02\n",
      "  20  1.63e-05  7.77e+01  4.58e+07  8.26e+02    1.63e+02      0              \n",
      "------------------------- STOP! -------------------------\n",
      "1 : |fc-fOld| = 4.3789e+01 <= tolF*(1+|f0|) = 1.3018e+05\n",
      "0 : |xc-x_last| = 1.4757e+00 <= tolX*(1+|x0|) = 1.0400e-01\n",
      "0 : |proj(x-g)-x|    = 1.6269e+02 <= tolG          = 1.0000e-01\n",
      "0 : |proj(x-g)-x|    = 1.6269e+02 <= 1e3*eps       = 1.0000e-02\n",
      "1 : maxIter   =      20    <= iter          =     20\n",
      "------------------------- DONE! -------------------------\n"
     ]
    }
   ],
   "source": [
    "# Run L2 and Lp inversion\n",
    "mrec = inv.run(mstart)"
   ]
  },
  {
   "cell_type": "markdown",
   "metadata": {},
   "source": [
    "## plot the results"
   ]
  },
  {
   "cell_type": "code",
   "execution_count": 11,
   "metadata": {},
   "outputs": [
    {
     "ename": "ValueError",
     "evalue": "not enough values to unpack (expected 2, got 1)",
     "output_type": "error",
     "traceback": [
      "\u001b[0;31m---------------------------------------------------------------------------\u001b[0m",
      "\u001b[0;31mValueError\u001b[0m                                Traceback (most recent call last)",
      "\u001b[0;32m<ipython-input-11-b63b29adb0e4>\u001b[0m in \u001b[0;36m<module>\u001b[0;34m\u001b[0m\n\u001b[0;32m----> 1\u001b[0;31m \u001b[0mfig\u001b[0m\u001b[0;34m,\u001b[0m \u001b[0max\u001b[0m \u001b[0;34m=\u001b[0m \u001b[0mplt\u001b[0m\u001b[0;34m.\u001b[0m\u001b[0msubplots\u001b[0m\u001b[0;34m,\u001b[0m\u001b[0;34m\u001b[0m\u001b[0;34m\u001b[0m\u001b[0m\n\u001b[0m\u001b[1;32m      2\u001b[0m \u001b[0;31m# Plot observed data\u001b[0m\u001b[0;34m\u001b[0m\u001b[0;34m\u001b[0m\u001b[0;34m\u001b[0m\u001b[0m\n\u001b[1;32m      3\u001b[0m \u001b[0mUtils\u001b[0m\u001b[0;34m.\u001b[0m\u001b[0mPlotUtils\u001b[0m\u001b[0;34m.\u001b[0m\u001b[0mplot2Ddata\u001b[0m\u001b[0;34m(\u001b[0m\u001b[0mrxLoc\u001b[0m\u001b[0;34m,\u001b[0m \u001b[0md\u001b[0m\u001b[0;34m)\u001b[0m\u001b[0;34m\u001b[0m\u001b[0;34m\u001b[0m\u001b[0m\n\u001b[1;32m      4\u001b[0m \u001b[0;34m\u001b[0m\u001b[0m\n\u001b[1;32m      5\u001b[0m \u001b[0;31m# %%\u001b[0m\u001b[0;34m\u001b[0m\u001b[0;34m\u001b[0m\u001b[0;34m\u001b[0m\u001b[0m\n",
      "\u001b[0;31mValueError\u001b[0m: not enough values to unpack (expected 2, got 1)"
     ]
    }
   ],
   "source": [
    "fig, ax = plt.subplots, \n",
    "# Plot observed data\n",
    "Utils.PlotUtils.plot2Ddata(rxLoc, d)\n",
    "\n",
    "# %%\n",
    "# Write output model and data files and print misfit stats."
   ]
  },
  {
   "cell_type": "code",
   "execution_count": null,
   "metadata": {},
   "outputs": [],
   "source": [
    "iteration = 20\n",
    "iz = 20\n",
    "\n",
    "data = dd.io.load(\n",
    "    f\"{save_models.directory}{os.path.sep}{iteration:03d}-{save_models.fileName}.h5\"\n",
    ")\n",
    "\n",
    "plt.pcolormesh(data[\"x\"], data[\"y\"], data[\"model\"].reshape(mesh.vnC, order=\"F\")[:, :, iz])\n",
    "plt.title(f\"z = {data['z'][iz]}m\")"
   ]
  },
  {
   "cell_type": "code",
   "execution_count": null,
   "metadata": {},
   "outputs": [],
   "source": [
    "iy = 29\n",
    "\n",
    "plt.pcolormesh(data[\"x\"], data[\"z\"], data[\"model\"][:, iy, :].T)\n",
    "plt.title(f\"y = {data['y'][iy]}m\")"
   ]
  },
  {
   "cell_type": "code",
   "execution_count": null,
   "metadata": {},
   "outputs": [],
   "source": []
  }
 ],
 "metadata": {
  "kernelspec": {
   "display_name": "Python 3",
   "language": "python",
   "name": "python3"
  },
  "language_info": {
   "codemirror_mode": {
    "name": "ipython",
    "version": 3
   },
   "file_extension": ".py",
   "mimetype": "text/x-python",
   "name": "python",
   "nbconvert_exporter": "python",
   "pygments_lexer": "ipython3",
   "version": "3.7.3"
  }
 },
 "nbformat": 4,
 "nbformat_minor": 2
}
